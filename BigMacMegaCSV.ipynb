{
 "cells": [
  {
   "attachments": {},
   "cell_type": "markdown",
   "metadata": {},
   "source": [
    "# Big Mac Mega CSV\n",
    "For this part we're going to be working with the *big_mac_source_data_v2.csv*, which is the original dataset. \n",
    "\n",
    "We'll be removing columns and removing rows to make the data more manageable and hone in on what we're looking for.\n",
    "\n",
    "Please note that this compares the data by working with the US dollar at the time of publishing the dataset, not AUD. It's got the local price and dollar exchange.\n",
    "\n",
    "For these activities please look at *08 - Removing and Splitting Dataframes* and onwards."
   ]
  },
  {
   "cell_type": "code",
   "execution_count": 26,
   "metadata": {},
   "outputs": [
    {
     "data": {
      "text/html": [
       "<div>\n",
       "<style scoped>\n",
       "    .dataframe tbody tr th:only-of-type {\n",
       "        vertical-align: middle;\n",
       "    }\n",
       "\n",
       "    .dataframe tbody tr th {\n",
       "        vertical-align: top;\n",
       "    }\n",
       "\n",
       "    .dataframe thead th {\n",
       "        text-align: right;\n",
       "    }\n",
       "</style>\n",
       "<table border=\"1\" class=\"dataframe\">\n",
       "  <thead>\n",
       "    <tr style=\"text-align: right;\">\n",
       "      <th></th>\n",
       "      <th>name</th>\n",
       "      <th>currency_code</th>\n",
       "      <th>local_price</th>\n",
       "      <th>dollar_ex</th>\n",
       "      <th>date</th>\n",
       "    </tr>\n",
       "  </thead>\n",
       "  <tbody>\n",
       "    <tr>\n",
       "      <th>0</th>\n",
       "      <td>Argentina</td>\n",
       "      <td>ARS</td>\n",
       "      <td>2.50</td>\n",
       "      <td>1.00</td>\n",
       "      <td>2000-04-01</td>\n",
       "    </tr>\n",
       "    <tr>\n",
       "      <th>1</th>\n",
       "      <td>Australia</td>\n",
       "      <td>AUD</td>\n",
       "      <td>2.59</td>\n",
       "      <td>1.68</td>\n",
       "      <td>2000-04-01</td>\n",
       "    </tr>\n",
       "    <tr>\n",
       "      <th>2</th>\n",
       "      <td>Brazil</td>\n",
       "      <td>BRL</td>\n",
       "      <td>2.95</td>\n",
       "      <td>1.79</td>\n",
       "      <td>2000-04-01</td>\n",
       "    </tr>\n",
       "    <tr>\n",
       "      <th>3</th>\n",
       "      <td>Canada</td>\n",
       "      <td>CAD</td>\n",
       "      <td>2.85</td>\n",
       "      <td>1.47</td>\n",
       "      <td>2000-04-01</td>\n",
       "    </tr>\n",
       "    <tr>\n",
       "      <th>4</th>\n",
       "      <td>Switzerland</td>\n",
       "      <td>CHF</td>\n",
       "      <td>5.90</td>\n",
       "      <td>1.70</td>\n",
       "      <td>2000-04-01</td>\n",
       "    </tr>\n",
       "  </tbody>\n",
       "</table>\n",
       "</div>"
      ],
      "text/plain": [
       "          name currency_code  local_price  dollar_ex        date\n",
       "0    Argentina           ARS         2.50       1.00  2000-04-01\n",
       "1    Australia           AUD         2.59       1.68  2000-04-01\n",
       "2       Brazil           BRL         2.95       1.79  2000-04-01\n",
       "3       Canada           CAD         2.85       1.47  2000-04-01\n",
       "4  Switzerland           CHF         5.90       1.70  2000-04-01"
      ]
     },
     "execution_count": 26,
     "metadata": {},
     "output_type": "execute_result"
    }
   ],
   "source": [
    "import pandas as pd\n",
    "#Read in the big_mac_source_data_v2.csv into a dataframe and show the first five rows of data (using .head())\n",
    "big_mac_df = pd.read_csv('data/big_mac_source_data_v2.csv')\n",
    "big_mac_df.head()\n",
    "#Now, remove the iso_a3, GDP_dollar and GDP_local columns\n",
    "new_df = big_mac_df.drop(columns = ['iso_a3', 'GDP_dollar', 'GDP_local'])\n",
    "#Print the dataframe\n",
    "new_df.head()"
   ]
  },
  {
   "attachments": {},
   "cell_type": "markdown",
   "metadata": {},
   "source": [
    "### Remove Rows\n",
    "Now we want to remove some rows. We want to just focus on data from the start of the 2023-2024 financial year (01-07-2023).\n",
    "\n",
    "There are two options for this:\n",
    "\n",
    "#### Remove Rows by Index\n",
    "We can remove all rows by index by looking at the index and deleting all rows. \n",
    "\n",
    "[Remove Rows By Index](https://scales.arabpsychology.com/stats/how-to-drop-rows-by-index-in-pandas-with-examples/#:~:text=Dropping%20rows%20by%20index%20in,provided%20to%20illustrate%20the%20process)\n",
    "\n",
    "Look through the above to know how to drop rows by index. However, we need to know how to drop a broad range of rows by index. You'll need this code to find the index `df.loc[x:y].index`, which will go in place of `index=[...]` when calling the drop function.\n",
    "\n",
    "#### Remove duplicates in a column\n",
    "We can also remove all duplicates of a column except for the last value, which is probably a little easier. \n",
    "\n",
    "\n",
    "[Remove Duplicates and Keep the Latest](https://scales.arabpsychology.com/stats/how-do-i-drop-duplicate-rows-in-pandas-and-keep-the-latest-one/)\n",
    "\n",
    "You'll want to remove the `sort_values('time')` section, but aside from that it should work if you remember to look at the `name` column as opposed to their example of `item` column. The only issue here is we do end up keeping a couple of countries which stopped reporting data (UAE and Russia). This means you will need to manually remove the first two rows (you can do this by index, look above)."
   ]
  },
  {
   "cell_type": "code",
   "execution_count": 27,
   "metadata": {},
   "outputs": [],
   "source": [
    "#Remove the data using either method below. If you want to try both, COMMENT OUT ONE OF THEM AND CLEAR ALL OUTPUTS.\n",
    "new_df = new_df.drop_duplicates(['name'], keep='last')"
   ]
  },
  {
   "attachments": {},
   "cell_type": "markdown",
   "metadata": {},
   "source": [
    "## Create .csv File\n",
    "Let's finish this off by storing just the 01-07-2023 values into a new .csv file. "
   ]
  },
  {
   "cell_type": "code",
   "execution_count": 28,
   "metadata": {},
   "outputs": [],
   "source": [
    "#Write updated DataFrame to .csv file 'big_mac_2023.csv'\n",
    "new_df.to_csv(\n",
    "              'data/big_mac_2023.csv',\n",
    "              index = False\n",
    ")"
   ]
  }
 ],
 "metadata": {
  "kernelspec": {
   "display_name": "Python 3",
   "language": "python",
   "name": "python3"
  },
  "language_info": {
   "codemirror_mode": {
    "name": "ipython",
    "version": 3
   },
   "file_extension": ".py",
   "mimetype": "text/x-python",
   "name": "python",
   "nbconvert_exporter": "python",
   "pygments_lexer": "ipython3",
   "version": "3.11.0"
  }
 },
 "nbformat": 4,
 "nbformat_minor": 2
}
